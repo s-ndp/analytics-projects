{
  "nbformat": 4,
  "nbformat_minor": 0,
  "metadata": {
    "colab": {
      "private_outputs": true,
      "provenance": [],
      "collapsed_sections": [
        "FJNUwmbgGyua",
        "w6K7xa23Elo4",
        "mDgbUHAGgjLW",
        "gIfDvo9L0UH2"
      ],
      "include_colab_link": true
    },
    "kernelspec": {
      "name": "python3",
      "display_name": "Python 3"
    },
    "language_info": {
      "name": "python"
    }
  },
  "cells": [
    {
      "cell_type": "markdown",
      "metadata": {
        "id": "view-in-github",
        "colab_type": "text"
      },
      "source": [
        "<a href=\"https://colab.research.google.com/github/s-ndp/analytics-projects/blob/main/Copy_of_Sample_EDA_Submission_Template.ipynb\" target=\"_parent\"><img src=\"https://colab.research.google.com/assets/colab-badge.svg\" alt=\"Open In Colab\"/></a>"
      ]
    },
    {
      "cell_type": "markdown",
      "source": [
        "# **Project Name**    -\n",
        "\n"
      ],
      "metadata": {
        "id": "vncDsAP0Gaoa"
      }
    },
    {
      "cell_type": "markdown",
      "source": [
        "##### **Project Type**    - EDA/Regression/Classification/Unsupervised\n",
        "##### **Contribution**    - Individual\n",
        "##### **Team Member 1 -**\n",
        "SANDEEP KHATIK\n"
      ],
      "metadata": {
        "id": "beRrZCGUAJYm"
      }
    },
    {
      "cell_type": "markdown",
      "source": [
        "# **Project Summary -**"
      ],
      "metadata": {
        "id": "FJNUwmbgGyua"
      }
    },
    {
      "cell_type": "markdown",
      "source": [
        "Write the summary here within 500-600 words.\n",
        "Project Title:\n",
        " \"GLOBAL TERRORISM DATA.\"\n",
        "\n",
        "Project Summary:\n",
        "The \"GLOBAL TERRORISM DATA.\"  aims to take the insight from data to solve global terrorism problem. This project seeks to address the human kind bigest problem terrorism, providing valuable insights into if we got the right insight we can save this word from the destruction being made due to terrorism.\n",
        "\n",
        "Objectives:\n",
        "\n",
        "Investigate and analyze the reason behind the person turnig as a terrorist.\n",
        "Examine the factors contributing to areson or cause behind a terrorism.\n",
        "Identify key patterns and trends in of a terrorism.\n",
        "Assess the impact of actions taken by goverment by which there own citizens turned into a terrorist.\n",
        "Scope:\n",
        "The project will focus on the diferent resions and country and problem which are leading cause of a terrisom. It aims to provide a comprehensive understanding of global terrorism.\n",
        "\n",
        "Methodology:\n",
        "The research will employ the data from all across the word and had a sample size of all across continent including all famous type of problems . This will enable a systematic exploration of python and its library like pandas,matplotlib to derive meaningful insights.\n",
        "\n",
        "Anticipated Outcomes:\n",
        "\n",
        "Gain a deeper understanding of GLOBAL TERRORISM DATA\n",
        "Provide actionable recommendations for goverments .\n",
        "Contribute to the existing body of knowledge on humans problems that lead to a terrorism.\n",
        "\n",
        "Significance:\n",
        "The findings from this project are expected to highlight the kind of methords and activity that been is involved in terrorism.\n",
        "\n",
        "Timeline:\n",
        "The project is expected to be completed within, 16/jan/2023 to 19/jan/2023\n",
        "\n",
        "Conclusion:\n",
        "The GLOBAL \"TERRORISM DATA\" holds promise in analyzing the terroism problem. By addressing GLOBAL TERRORISM DATA, the project contributes to the knowledge base in data analytics and has the potential to come up with possible solution of the problem.\n",
        "\n",
        "\n",
        "\n"
      ],
      "metadata": {
        "id": "F6v_1wHtG2nS"
      }
    },
    {
      "cell_type": "markdown",
      "source": [
        "# **GitHub Link -**"
      ],
      "metadata": {
        "id": "w6K7xa23Elo4"
      }
    },
    {
      "cell_type": "markdown",
      "source": [
        "Provide your GitHub Link here."
      ],
      "metadata": {
        "id": "h1o69JH3Eqqn"
      }
    },
    {
      "cell_type": "markdown",
      "source": [
        "# **Problem Statement**\n"
      ],
      "metadata": {
        "id": "yQaldy8SH6Dl"
      }
    },
    {
      "cell_type": "markdown",
      "source": [
        "**Write Problem Statement Here.**\n",
        "\n",
        "Findings the resons and causes of 'GLOBAL TERRORISM'"
      ],
      "metadata": {
        "id": "DpeJGUA3kjGy"
      }
    },
    {
      "cell_type": "markdown",
      "source": [
        "#### **Define Your Business Objective?**"
      ],
      "metadata": {
        "id": "PH-0ReGfmX4f"
      }
    },
    {
      "cell_type": "markdown",
      "source": [
        "Answer Here.\n",
        "\n",
        "\"To come up with possible ways of dealing with terrorism,\""
      ],
      "metadata": {
        "id": "PhDvGCAqmjP1"
      }
    },
    {
      "cell_type": "markdown",
      "source": [
        "# **General Guidelines** : -  "
      ],
      "metadata": {
        "id": "mDgbUHAGgjLW"
      }
    },
    {
      "cell_type": "markdown",
      "source": [
        "1.   Well-structured, formatted, and commented code is required.\n",
        "2.   Exception Handling, Production Grade Code & Deployment Ready Code will be a plus. Those students will be awarded some additional credits.\n",
        "     \n",
        "     The additional credits will have advantages over other students during Star Student selection.\n",
        "       \n",
        "             [ Note: - Deployment Ready Code is defined as, the whole .ipynb notebook should be executable in one go\n",
        "                       without a single error logged. ]\n",
        "\n",
        "3.   Each and every logic should have proper comments.\n",
        "4. You may add as many number of charts you want. Make Sure for each and every chart the following format should be answered.\n",
        "        \n",
        "\n",
        "```\n",
        "# Chart visualization code\n",
        "```\n",
        "            \n",
        "\n",
        "*   Why did you pick the specific chart?\n",
        "*   What is/are the insight(s) found from the chart?\n",
        "* Will the gained insights help creating a positive business impact?\n",
        "Are there any insights that lead to negative growth? Justify with specific reason.\n",
        "\n",
        "5. You have to create at least 20 logical & meaningful charts having important insights.\n",
        "\n",
        "\n",
        "[ Hints : - Do the Vizualization in  a structured way while following \"UBM\" Rule.\n",
        "\n",
        "U - Univariate Analysis,\n",
        "\n",
        "B - Bivariate Analysis (Numerical - Categorical, Numerical - Numerical, Categorical - Categorical)\n",
        "\n",
        "M - Multivariate Analysis\n",
        " ]\n",
        "\n",
        "\n",
        "\n"
      ],
      "metadata": {
        "id": "ZrxVaUj-hHfC"
      }
    },
    {
      "cell_type": "markdown",
      "source": [
        "# ***Let's Begin !***"
      ],
      "metadata": {
        "id": "O_i_v8NEhb9l"
      }
    },
    {
      "cell_type": "markdown",
      "source": [
        "## ***1. Know Your Data***"
      ],
      "metadata": {
        "id": "HhfV-JJviCcP"
      }
    },
    {
      "cell_type": "markdown",
      "source": [
        "### Import Libraries"
      ],
      "metadata": {
        "id": "Y3lxredqlCYt"
      }
    },
    {
      "cell_type": "code",
      "source": [
        "# Import Libraries\n",
        "import numpy as np\n",
        "import pandas as pd\n",
        "import seaborn as sns\n",
        "import matplotlib.pyplot as plt"
      ],
      "metadata": {
        "id": "M8Vqi-pPk-HR"
      },
      "execution_count": null,
      "outputs": []
    },
    {
      "cell_type": "code",
      "source": [
        "from google.colab import drive\n",
        "drive.mount('/content/drive')"
      ],
      "metadata": {
        "id": "_wtcizgUgZs3"
      },
      "execution_count": null,
      "outputs": []
    },
    {
      "cell_type": "markdown",
      "source": [
        "### Dataset Loading"
      ],
      "metadata": {
        "id": "3RnN4peoiCZX"
      }
    },
    {
      "cell_type": "code",
      "source": [
        "# Load Dataset\n",
        "df = pd.read_csv('/content/drive/MyDrive/Copy of Global Terrorism Data.csv', encoding='latin1')"
      ],
      "metadata": {
        "id": "4CkvbW_SlZ_R"
      },
      "execution_count": null,
      "outputs": []
    },
    {
      "cell_type": "markdown",
      "source": [
        "### Dataset First View"
      ],
      "metadata": {
        "id": "x71ZqKXriCWQ"
      }
    },
    {
      "cell_type": "code",
      "source": [
        "df"
      ],
      "metadata": {
        "id": "ntwtUpcAMGiN"
      },
      "execution_count": null,
      "outputs": []
    },
    {
      "cell_type": "code",
      "source": [
        "# Dataset First Look\n",
        "df.shape"
      ],
      "metadata": {
        "id": "LWNFOSvLl09H"
      },
      "execution_count": null,
      "outputs": []
    },
    {
      "cell_type": "code",
      "source": [
        "df.head()"
      ],
      "metadata": {
        "id": "-b6Affo_g84r"
      },
      "execution_count": null,
      "outputs": []
    },
    {
      "cell_type": "markdown",
      "source": [
        "### Dataset Rows & Columns count"
      ],
      "metadata": {
        "id": "7hBIi_osiCS2"
      }
    },
    {
      "cell_type": "code",
      "source": [
        "# Dataset Rows & Columns count\n",
        "df.info()"
      ],
      "metadata": {
        "id": "Kllu7SJgmLij"
      },
      "execution_count": null,
      "outputs": []
    },
    {
      "cell_type": "code",
      "source": [
        "df.drop(['attacktype3','attacktype3_txt','targtype1','targtype2_txt','targsubtype2','targsubtype2_txt','corp2'], axis=1, inplace = True )"
      ],
      "metadata": {
        "id": "7sxl7X3LhcVq"
      },
      "execution_count": null,
      "outputs": []
    },
    {
      "cell_type": "code",
      "source": [
        "df.drop(['target2','natlty2','natlty2_txt','targtype3','targtype3_txt','targsubtype3','targsubtype3_txt','target3','natlty3','natlty3_txt','gsubname2','gname3','gsubname3','guncertain1','guncertain2','guncertain3','individual','claim2','claimmode2','claimmode2_txt','claim3','claimmode3','claimmode3_txt','compclaim','weapsubtype2_txt','weaptype3','weaptype3_txt','weapsubtype3','weapsubtype3_txt','weaptype4','weaptype4_txt','weapsubtype4','weapsubtype4_txt',], axis=1, inplace = True)"
      ],
      "metadata": {
        "id": "s4qSzXJ4hhbe"
      },
      "execution_count": null,
      "outputs": []
    },
    {
      "cell_type": "code",
      "source": [
        "df.drop(['ransomamtus','ransompaid','ransompaidus','ransomnote','hostkidoutcome'], axis=1, inplace = True)"
      ],
      "metadata": {
        "id": "RFjNaRsnhknH"
      },
      "execution_count": null,
      "outputs": []
    },
    {
      "cell_type": "code",
      "source": [
        "df.drop(['suicide','multiple','doubtterr','vicinity','extended'], axis=1, inplace = True)"
      ],
      "metadata": {
        "id": "wh-SGiEaid6O"
      },
      "execution_count": null,
      "outputs": []
    },
    {
      "cell_type": "code",
      "source": [
        "df.shape"
      ],
      "metadata": {
        "id": "jJe_hjEgkU3B"
      },
      "execution_count": null,
      "outputs": []
    },
    {
      "cell_type": "markdown",
      "source": [
        "### Dataset Information"
      ],
      "metadata": {
        "id": "JlHwYmJAmNHm"
      }
    },
    {
      "cell_type": "code",
      "source": [
        "# Dataset Info\n",
        "df.columns"
      ],
      "metadata": {
        "id": "e9hRXRi6meOf"
      },
      "execution_count": null,
      "outputs": []
    },
    {
      "cell_type": "markdown",
      "source": [
        "#### Duplicate Values"
      ],
      "metadata": {
        "id": "35m5QtbWiB9F"
      }
    },
    {
      "cell_type": "code",
      "source": [
        "# Dataset Duplicate Value Count\n",
        "are_there_duplicates = df.duplicated().any()\n",
        "# Display result\n",
        "if are_there_duplicates:\n",
        "    print(\"Duplicates found!\")\n",
        "    # Display the rows with duplicates\n",
        "    print(df[df.duplicated()])\n",
        "else:\n",
        "    print(\"No duplicates found.\")"
      ],
      "metadata": {
        "id": "1sLdpKYkmox0"
      },
      "execution_count": null,
      "outputs": []
    },
    {
      "cell_type": "markdown",
      "source": [
        "#### Missing Values/Null Values"
      ],
      "metadata": {
        "id": "PoPl-ycgm1ru"
      }
    },
    {
      "cell_type": "code",
      "source": [
        "# Missing Values/Null Values Count\n",
        "missing_values = df.isnull().any()\n",
        "if missing_values.any():\n",
        "    print(\"Missing values found!\")\n",
        "    # Display the columns with missing values\n",
        "    print(missing_values[missing_values])\n",
        "else:\n",
        "    print(\"No missing values found.\")\n"
      ],
      "metadata": {
        "id": "GgHWkxvamxVg"
      },
      "execution_count": null,
      "outputs": []
    },
    {
      "cell_type": "code",
      "source": [
        "# Visualizing the missing values\n",
        "missing_value_counts = df.isnull().sum()\n",
        "print(missing_value_counts)"
      ],
      "metadata": {
        "id": "3q5wnI3om9sJ"
      },
      "execution_count": null,
      "outputs": []
    },
    {
      "cell_type": "code",
      "source": [
        "df.dropna(axis=1)"
      ],
      "metadata": {
        "id": "PiRCEzm4Mz2d"
      },
      "execution_count": null,
      "outputs": []
    },
    {
      "cell_type": "markdown",
      "source": [
        "# CHART - 1\n"
      ],
      "metadata": {
        "id": "EDnN-nNxftHS"
      }
    },
    {
      "cell_type": "code",
      "source": [
        "plt.figure(figsize=(12, 8))\n",
        "sns.heatmap(df.isnull(), cbar=False, cmap='viridis')\n",
        "\n",
        "plt.title('Missing Values Heatmap')\n",
        "plt.show()\n",
        "# If you notice columns with a large portion of purple,\n",
        "#  it suggests that those columns have a higher percentage of missing values.\n",
        "#  This visualization is useful\n",
        "# for identifying areas in your dataset where data imputation or cleaning may be necessary."
      ],
      "metadata": {
        "id": "iJK_U5_tPt8U"
      },
      "execution_count": null,
      "outputs": []
    },
    {
      "cell_type": "markdown",
      "source": [
        "1 WHY DID U PICK THE SPECIFIC CHART\n",
        "\n",
        "ANSWER\n",
        "\n",
        ">\n",
        "I chose to use a heatmap to visualize missing values in our DataFrame because it provides an effective and compact representation of the entire dataset. Heatmaps are particularly useful for highlighting patterns and identifying areas with missing or null values in tabular data.\n",
        "\n",
        "\n",
        "\n"
      ],
      "metadata": {
        "id": "amKrZ9-6f9ea"
      }
    },
    {
      "cell_type": "markdown",
      "source": [
        "2. What is/are the insight(s) found from  the chart?\n",
        "\n",
        "ANSWER - from this chart we were trying to figure out how many missing values were there. once we got the answer we can drop the missing values."
      ],
      "metadata": {
        "id": "mF6XGrNThBqO"
      }
    },
    {
      "cell_type": "markdown",
      "source": [
        "3.  will the gianed insight help creating a positive business impact?\n",
        "\n",
        "ANSWER - yes it helped us to klnow about the missing values, which will gona help us in the further analysis."
      ],
      "metadata": {
        "id": "P_zCJ6efiCfZ"
      }
    },
    {
      "cell_type": "markdown",
      "source": [
        "# chart - 2"
      ],
      "metadata": {
        "id": "7UTR0Dtpiwlp"
      }
    },
    {
      "cell_type": "code",
      "source": [
        "plt.figure(figsize=(12, 6))\n",
        "sns.countplot(x='attacktype1_txt', data=df, palette='viridis')\n",
        "\n",
        "plt.title('Number of Attacks by Type')\n",
        "plt.xlabel('Attack Type')\n",
        "plt.ylabel('Count')\n",
        "plt.xticks(rotation=45, ha='right')  # Rotate x-axis labels for better readability\n",
        "plt.show()"
      ],
      "metadata": {
        "id": "laLtXPWicn2D"
      },
      "execution_count": null,
      "outputs": []
    },
    {
      "cell_type": "markdown",
      "source": [
        "1 WHY DID U PICK THE SPECIFIC CHART\n",
        "\n",
        "ANSWER -  Categorical Data: The variable being visualized, 'attacktype1_txt', is categorical. Categorical data consists of distinct categories without any inherent order. Bar graphs are commonly used to represent the distribution of categorical data."
      ],
      "metadata": {
        "id": "viIf4TncjNnJ"
      }
    },
    {
      "cell_type": "markdown",
      "source": [
        "2. What is/are the insight found from the chart\n",
        "\n",
        "ANSWER - With this chart it is clearly telling us that most no of attacks are BOMBING AND EXPLOSION , and after that  is armed asault"
      ],
      "metadata": {
        "id": "19dZA6avj8yc"
      }
    },
    {
      "cell_type": "markdown",
      "source": [
        "3. Was the insight helpfull\n",
        "\n",
        "ANSWER - yes with this information we draw a conclusion that no of attacks are being happened are BOMBING AND ARMED ASAULT."
      ],
      "metadata": {
        "id": "Q2i7zVRekzJc"
      }
    },
    {
      "cell_type": "markdown",
      "source": [],
      "metadata": {
        "id": "qcah1SuvjJe7"
      }
    },
    {
      "cell_type": "markdown",
      "source": [
        "## 3. ***Data Wrangling***"
      ],
      "metadata": {
        "id": "dauF4eBmngu3"
      }
    },
    {
      "cell_type": "markdown",
      "source": [
        "### Data Wrangling Code"
      ],
      "metadata": {
        "id": "bKJF3rekwFvQ"
      }
    },
    {
      "cell_type": "markdown",
      "source": [
        "# CHART - 3"
      ],
      "metadata": {
        "id": "bKYuYEqWlcH5"
      }
    },
    {
      "cell_type": "code",
      "source": [
        "# Write your code to make your dataset analysis ready.\n",
        " #Plotting the number of attacks over years\n",
        "plt.figure(figsize=(25, 8))\n",
        "sns.countplot(x='iyear', data=df, palette='viridis')\n",
        "\n",
        "plt.title('Number of Attacks Over Years')\n",
        "plt.xlabel('Year')\n",
        "plt.ylabel('Number of Attacks')\n",
        "plt.show()"
      ],
      "metadata": {
        "id": "wk-9a2fpoLcV"
      },
      "execution_count": null,
      "outputs": []
    },
    {
      "cell_type": "markdown",
      "source": [
        "### What all manipulations have you done and insights you found?"
      ],
      "metadata": {
        "id": "MSa1f5Uengrz"
      }
    },
    {
      "cell_type": "markdown",
      "source": [
        "Answer Here. With this chart we can clearly see that no of attacks are clearly increasing with every year and from year 2012 attack spiked up which is a point of concern."
      ],
      "metadata": {
        "id": "LbyXE7I1olp8"
      }
    },
    {
      "cell_type": "markdown",
      "source": [
        "#### Chart - 4"
      ],
      "metadata": {
        "id": "0wOQAZs5pc--"
      }
    },
    {
      "cell_type": "code",
      "source": [
        "# Chart - 1 visualization code\n",
        " #Plotting the distribution of attacks by country\n",
        "plt.figure(figsize=(30, 8))\n",
        "top_countries = df['country_txt'].value_counts().index[:20]\n",
        "sns.countplot(x='country_txt', data=df, palette='viridis', order=top_countries)\n",
        "\n",
        "plt.title('Distribution of Attacks by Country (Top 20)')\n",
        "plt.xlabel('Country')\n",
        "plt.ylabel('Number of Attacks')\n",
        "plt.xticks(rotation=90)\n",
        "plt.show()\n"
      ],
      "metadata": {
        "id": "7v_ESjsspbW7"
      },
      "execution_count": null,
      "outputs": []
    },
    {
      "cell_type": "markdown",
      "source": [
        "What insight you gained from this plot\n",
        "\n",
        "ANSWER -  this chart is showing that the most sufered countrys from a terrorism."
      ],
      "metadata": {
        "id": "EyCrMNlCmITc"
      }
    },
    {
      "cell_type": "markdown",
      "source": [
        "# chart -4\n",
        "Types of Targets in Attacks"
      ],
      "metadata": {
        "id": "UD4EJXyjmyWe"
      }
    },
    {
      "cell_type": "code",
      "source": [
        "# Plotting the types of targets\n",
        "plt.figure(figsize=(16, 8))\n",
        "sns.countplot(x='targtype1_txt', data=df, palette='viridis', order=df['targtype1_txt'].value_counts().index)\n",
        "\n",
        "plt.title('Types of Targets in Attacks')\n",
        "plt.xlabel('Target Type')\n",
        "plt.ylabel('Number of Attacks')\n",
        "plt.xticks(rotation=45, ha='right')\n",
        "plt.show()"
      ],
      "metadata": {
        "id": "NYHEVW89flxg"
      },
      "execution_count": null,
      "outputs": []
    },
    {
      "cell_type": "markdown",
      "source": [
        "What insight u got from this chart\n",
        "\n",
        "ANSWER - this chart is telling about the most afected areas of attacks like MILITARY , POLICE ."
      ],
      "metadata": {
        "id": "ePf-nX6onCFt"
      }
    },
    {
      "cell_type": "markdown",
      "source": [
        "# CHART - 5\n",
        "Types of  Attacks"
      ],
      "metadata": {
        "id": "DsLIvC2XnnVQ"
      }
    },
    {
      "cell_type": "code",
      "source": [
        "plt.figure(figsize=(10, 3))\n",
        "sns.countplot(x='attacktype1_txt', data=df, palette='viridis', order=df['attacktype1_txt'].value_counts().index)\n",
        "\n",
        "plt.title('Types of  Attacks')\n",
        "plt.xlabel('Target Type')\n",
        "plt.ylabel('Number of Attacks')\n",
        "plt.xticks(rotation=45, ha='right')\n",
        "plt.show()"
      ],
      "metadata": {
        "id": "rXdM31tm4tQ_"
      },
      "execution_count": null,
      "outputs": []
    },
    {
      "cell_type": "markdown",
      "source": [
        "## **5. Solution to Business Objective**"
      ],
      "metadata": {
        "id": "JcMwzZxoAimU"
      }
    },
    {
      "cell_type": "markdown",
      "source": [
        "#### What do you suggest the client to achieve Business Objective ?\n",
        "Explain Briefly."
      ],
      "metadata": {
        "id": "8G2x9gOozGDZ"
      }
    },
    {
      "cell_type": "markdown",
      "source": [
        "Answer Here.\n",
        "1. very first insight is that no of attacks has increased drastically from 2012, look what action as a country u are making that lead to such a strong Reprecation.\n",
        "2. The most affected areas are asia and the country are iraq india pakistan afganistan\n",
        "3. Bombing and exploision are the most used weapons, search where these weapons are mostly being used. you will eventually find out the culprits .\n",
        "4. Mostly goverment organisations are being attacked like police, millitary, and goverment(generals). and reasons could be the attackers are being supresed by the goverment bodies."
      ],
      "metadata": {
        "id": "pASKb0qOza21"
      }
    },
    {
      "cell_type": "markdown",
      "source": [
        "# **Conclusion**"
      ],
      "metadata": {
        "id": "gCX9965dhzqZ"
      }
    },
    {
      "cell_type": "markdown",
      "source": [
        "Write the conclusion here.\n",
        "1. Escalating Number of Attacks (2012 Onwards):\n",
        "The data highlights a sharp increase in the number of terrorist attacks since 2012. This surge demands a thorough examination of the policies, strategies, and actions taken by countries during this period. Understanding the factors contributing to this rise is crucial for implementing effective counter-terrorism measures and ensuring global security.\n",
        "\n",
        "\n",
        "2. High Impact in Asia, with Focus on Iraq, India, Pakistan, and Afghanistan:\n",
        "Asia emerges as the most affected region, with Iraq, India, Pakistan, and Afghanistan bearing the brunt of terrorist activities. A concentrated effort is required to address the specific challenges faced by these nations, including targeted strategies, regional collaborations, and intelligence-sharing to curb the menace of terrorism.\n",
        "\n",
        "\n",
        "3. Prevalence of Bombings and Explosions:\n",
        "The analysis underscores the prevalence of bombings and explosions as the most commonly used tactics by terrorists. A targeted investigation into the regions where these tactics are predominantly employed can help identify the sources and actors responsible. This knowledge is vital for dismantling terrorist networks and disrupting their operations.\n",
        "\n",
        "\n",
        "4. Targeting of Government Organizations:\n",
        "Government organizations, including police, military, and government officials, emerge as primary targets for terrorist attacks. This pattern suggests potential grievances or opposition from entities feeling suppressed by government bodies. Policy-makers and security forces should focus on addressing the root causes behind these attacks, implementing measures to alleviate grievances, and fortifying security around key government institutions.\n",
        "\n",
        "5. In addressing these insights, a comprehensive, multi-faceted approach is crucial. This may involve international cooperation, diplomatic efforts, socio-economic development, and robust security measures to counteract the various dimensions of terrorism. The findings underscore the urgency for nations to collaborate, share intelligence, and implement targeted strategies to mitigate the global impact of terrorism and safeguard the lives and well-being of their citizens"
      ],
      "metadata": {
        "id": "Fjb1IsQkh3yE"
      }
    },
    {
      "cell_type": "markdown",
      "source": [
        "### ***Hurrah! You have successfully completed your EDA Capstone Project !!!***"
      ],
      "metadata": {
        "id": "gIfDvo9L0UH2"
      }
    }
  ]
}